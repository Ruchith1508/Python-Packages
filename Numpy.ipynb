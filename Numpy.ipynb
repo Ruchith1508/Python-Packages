{
  "nbformat": 4,
  "nbformat_minor": 0,
  "metadata": {
    "colab": {
      "provenance": []
    },
    "kernelspec": {
      "name": "python3",
      "display_name": "Python 3"
    },
    "language_info": {
      "name": "python"
    }
  },
  "cells": [
    {
      "cell_type": "code",
      "execution_count": 56,
      "metadata": {
        "colab": {
          "base_uri": "https://localhost:8080/"
        },
        "id": "vSlF_-5rXTHF",
        "outputId": "d2e6aa04-35f9-4039-830d-b93046f1381b"
      },
      "outputs": [
        {
          "output_type": "stream",
          "name": "stdout",
          "text": [
            "Requirement already satisfied: numpy in /usr/local/lib/python3.10/dist-packages (1.26.4)\n"
          ]
        }
      ],
      "source": [
        "!pip install numpy"
      ]
    },
    {
      "cell_type": "markdown",
      "source": [
        "# 1D Array"
      ],
      "metadata": {
        "id": "WJ0Ox22MYkNs"
      }
    },
    {
      "cell_type": "code",
      "source": [
        "import numpy as np\n",
        "\n",
        "arr=np.array([1,2,3])\n",
        "print(arr)"
      ],
      "metadata": {
        "colab": {
          "base_uri": "https://localhost:8080/"
        },
        "id": "WD9NZ_6GXZiu",
        "outputId": "360acace-e909-4dd2-b19b-31fefa916a59"
      },
      "execution_count": 57,
      "outputs": [
        {
          "output_type": "stream",
          "name": "stdout",
          "text": [
            "[1 2 3]\n"
          ]
        }
      ]
    },
    {
      "cell_type": "markdown",
      "source": [
        "# 2D Array"
      ],
      "metadata": {
        "id": "ZGPrl7cvYoJX"
      }
    },
    {
      "cell_type": "code",
      "source": [
        "arr=np.array([(1,2,3),(4,5,6)])\n",
        "print(arr)"
      ],
      "metadata": {
        "colab": {
          "base_uri": "https://localhost:8080/"
        },
        "id": "rHkzrlbeYWtZ",
        "outputId": "ef9b45a3-67e2-44a3-8daf-6a402495759b"
      },
      "execution_count": 58,
      "outputs": [
        {
          "output_type": "stream",
          "name": "stdout",
          "text": [
            "[[1 2 3]\n",
            " [4 5 6]]\n"
          ]
        }
      ]
    },
    {
      "cell_type": "markdown",
      "source": [
        "# 3D Array"
      ],
      "metadata": {
        "id": "zLdPiolmY-gl"
      }
    },
    {
      "cell_type": "code",
      "source": [
        "arr=np.array([[(1,2,3),(4,5,6)],[(7,8,9),(10,11,12)]])\n",
        "print(arr)"
      ],
      "metadata": {
        "colab": {
          "base_uri": "https://localhost:8080/"
        },
        "id": "5pg4aTdkY1Vk",
        "outputId": "c2a665dd-5517-40bd-dd7a-15ba197df40b"
      },
      "execution_count": 59,
      "outputs": [
        {
          "output_type": "stream",
          "name": "stdout",
          "text": [
            "[[[ 1  2  3]\n",
            "  [ 4  5  6]]\n",
            "\n",
            " [[ 7  8  9]\n",
            "  [10 11 12]]]\n"
          ]
        }
      ]
    },
    {
      "cell_type": "markdown",
      "source": [
        "# 4D Array"
      ],
      "metadata": {
        "id": "mpgBSrBsa1QN"
      }
    },
    {
      "cell_type": "code",
      "source": [
        "arr=np.array([[[(1,2,3),(4,5,6)],[(7,8,9),(10,11,12)]],[[(1,2,3),(4,5,6)],[(7,8,9),(10,11,12)]]])\n",
        "print(arr)"
      ],
      "metadata": {
        "colab": {
          "base_uri": "https://localhost:8080/"
        },
        "id": "LmrRfDvzZW7Y",
        "outputId": "20766545-b5fb-4233-f757-a0ef1a5ca916"
      },
      "execution_count": 60,
      "outputs": [
        {
          "output_type": "stream",
          "name": "stdout",
          "text": [
            "[[[[ 1  2  3]\n",
            "   [ 4  5  6]]\n",
            "\n",
            "  [[ 7  8  9]\n",
            "   [10 11 12]]]\n",
            "\n",
            "\n",
            " [[[ 1  2  3]\n",
            "   [ 4  5  6]]\n",
            "\n",
            "  [[ 7  8  9]\n",
            "   [10 11 12]]]]\n"
          ]
        }
      ]
    },
    {
      "cell_type": "markdown",
      "source": [
        "# 5D Array"
      ],
      "metadata": {
        "id": "ktlaWSQlbkTH"
      }
    },
    {
      "cell_type": "code",
      "source": [
        "arr=np.array([[[[(1,2,3),(4,5,6)],[(7,8,9),(10,11,12)]],[[(1,2,3),(4,5,6)],[(7,8,9),(10,11,12)]]],[[[(1,2,3),(4,5,6)],[(7,8,9),(10,11,12)]],[[(1,2,3),(4,5,6)],[(7,8,9),(10,11,12)]]]])\n",
        "print(arr)"
      ],
      "metadata": {
        "colab": {
          "base_uri": "https://localhost:8080/"
        },
        "id": "IAkDY24naph5",
        "outputId": "0a505eca-0147-40eb-e12d-cab1f12e2c8a"
      },
      "execution_count": 61,
      "outputs": [
        {
          "output_type": "stream",
          "name": "stdout",
          "text": [
            "[[[[[ 1  2  3]\n",
            "    [ 4  5  6]]\n",
            "\n",
            "   [[ 7  8  9]\n",
            "    [10 11 12]]]\n",
            "\n",
            "\n",
            "  [[[ 1  2  3]\n",
            "    [ 4  5  6]]\n",
            "\n",
            "   [[ 7  8  9]\n",
            "    [10 11 12]]]]\n",
            "\n",
            "\n",
            "\n",
            " [[[[ 1  2  3]\n",
            "    [ 4  5  6]]\n",
            "\n",
            "   [[ 7  8  9]\n",
            "    [10 11 12]]]\n",
            "\n",
            "\n",
            "  [[[ 1  2  3]\n",
            "    [ 4  5  6]]\n",
            "\n",
            "   [[ 7  8  9]\n",
            "    [10 11 12]]]]]\n"
          ]
        }
      ]
    },
    {
      "cell_type": "markdown",
      "source": [
        "# Initial Placeholders"
      ],
      "metadata": {
        "id": "hA5lR_Ssbo79"
      }
    },
    {
      "cell_type": "code",
      "source": [
        "#Create an array of zeros\n",
        "arr=np.array(np.zeros(3))\n",
        "print(arr)"
      ],
      "metadata": {
        "colab": {
          "base_uri": "https://localhost:8080/"
        },
        "id": "s0m905RfbdJJ",
        "outputId": "18c51e0a-c032-469e-9809-2ee91058c22e"
      },
      "execution_count": 62,
      "outputs": [
        {
          "output_type": "stream",
          "name": "stdout",
          "text": [
            "[0. 0. 0.]\n"
          ]
        }
      ]
    },
    {
      "cell_type": "code",
      "source": [
        "arr=np.array(np.zeros((3,4)))\n",
        "print(arr)"
      ],
      "metadata": {
        "colab": {
          "base_uri": "https://localhost:8080/"
        },
        "id": "bWm29r2Bb40v",
        "outputId": "7f62a19e-429a-4b54-e5b1-8257bbc17aa9"
      },
      "execution_count": 63,
      "outputs": [
        {
          "output_type": "stream",
          "name": "stdout",
          "text": [
            "[[0. 0. 0. 0.]\n",
            " [0. 0. 0. 0.]\n",
            " [0. 0. 0. 0.]]\n"
          ]
        }
      ]
    },
    {
      "cell_type": "code",
      "source": [
        "arr=np.array(np.zeros((2,3,4)))\n",
        "print(arr)"
      ],
      "metadata": {
        "colab": {
          "base_uri": "https://localhost:8080/"
        },
        "id": "kxh92fP0b-bD",
        "outputId": "5ad07578-3838-46b4-ef31-cf33fbaa9107"
      },
      "execution_count": 64,
      "outputs": [
        {
          "output_type": "stream",
          "name": "stdout",
          "text": [
            "[[[0. 0. 0. 0.]\n",
            "  [0. 0. 0. 0.]\n",
            "  [0. 0. 0. 0.]]\n",
            "\n",
            " [[0. 0. 0. 0.]\n",
            "  [0. 0. 0. 0.]\n",
            "  [0. 0. 0. 0.]]]\n"
          ]
        }
      ]
    },
    {
      "cell_type": "code",
      "source": [
        "#Create an array of ones\n",
        "arr=np.array(np.ones((2,3,4)))\n",
        "print(arr)"
      ],
      "metadata": {
        "colab": {
          "base_uri": "https://localhost:8080/"
        },
        "id": "iC4OdM9QcKr2",
        "outputId": "bf408ecc-2427-481d-a769-795ede572728"
      },
      "execution_count": 65,
      "outputs": [
        {
          "output_type": "stream",
          "name": "stdout",
          "text": [
            "[[[1. 1. 1. 1.]\n",
            "  [1. 1. 1. 1.]\n",
            "  [1. 1. 1. 1.]]\n",
            "\n",
            " [[1. 1. 1. 1.]\n",
            "  [1. 1. 1. 1.]\n",
            "  [1. 1. 1. 1.]]]\n"
          ]
        }
      ]
    },
    {
      "cell_type": "code",
      "source": [
        "#Create an array of evenly spaced values (step value)\n",
        "a=np.arange(5,25,2)\n",
        "print(a)"
      ],
      "metadata": {
        "colab": {
          "base_uri": "https://localhost:8080/"
        },
        "id": "GvFnTfjQcPo-",
        "outputId": "00271625-6d08-4489-d9e0-ec7a51f9f06b"
      },
      "execution_count": 66,
      "outputs": [
        {
          "output_type": "stream",
          "name": "stdout",
          "text": [
            "[ 5  7  9 11 13 15 17 19 21 23]\n"
          ]
        }
      ]
    },
    {
      "cell_type": "code",
      "source": [
        "#Create an array of evenlyspaced values (number of samples)\n",
        "b=np.linspace(1,10,10)\n",
        "print(b)"
      ],
      "metadata": {
        "colab": {
          "base_uri": "https://localhost:8080/"
        },
        "id": "gwJW3TDncZd0",
        "outputId": "0d6cec40-d020-444e-f293-6ce28874076c"
      },
      "execution_count": 67,
      "outputs": [
        {
          "output_type": "stream",
          "name": "stdout",
          "text": [
            "[ 1.  2.  3.  4.  5.  6.  7.  8.  9. 10.]\n"
          ]
        }
      ]
    },
    {
      "cell_type": "code",
      "source": [
        "#Create a constant array\n",
        "#Create a 1D array\n",
        "c=np.full((2,3),7)\n",
        "print(c)\n",
        "print(c.ndim)"
      ],
      "metadata": {
        "colab": {
          "base_uri": "https://localhost:8080/"
        },
        "id": "fYU94-M5cmj_",
        "outputId": "1459f594-0938-4d18-a5c1-426749337353"
      },
      "execution_count": 68,
      "outputs": [
        {
          "output_type": "stream",
          "name": "stdout",
          "text": [
            "[[7 7 7]\n",
            " [7 7 7]]\n",
            "2\n"
          ]
        }
      ]
    },
    {
      "cell_type": "code",
      "source": [
        "d=np.full((2,2,3),7)\n",
        "print(d)\n",
        "print(d.ndim)"
      ],
      "metadata": {
        "colab": {
          "base_uri": "https://localhost:8080/"
        },
        "id": "PsD_R8Fdc_7Q",
        "outputId": "87c8ca4d-60cd-457d-8441-c969f702ff76"
      },
      "execution_count": 69,
      "outputs": [
        {
          "output_type": "stream",
          "name": "stdout",
          "text": [
            "[[[7 7 7]\n",
            "  [7 7 7]]\n",
            "\n",
            " [[7 7 7]\n",
            "  [7 7 7]]]\n",
            "3\n"
          ]
        }
      ]
    },
    {
      "cell_type": "code",
      "source": [
        "#Create a 2X2 identity matrix\n",
        "e=np.eye(1)\n",
        "print(e)"
      ],
      "metadata": {
        "colab": {
          "base_uri": "https://localhost:8080/"
        },
        "id": "-km3w4u7dcK5",
        "outputId": "24ed7c06-0a39-4e21-bdce-6b26b356994d"
      },
      "execution_count": 70,
      "outputs": [
        {
          "output_type": "stream",
          "name": "stdout",
          "text": [
            "[[1.]]\n"
          ]
        }
      ]
    },
    {
      "cell_type": "code",
      "source": [
        "e=np.eye(2)\n",
        "print(e)"
      ],
      "metadata": {
        "colab": {
          "base_uri": "https://localhost:8080/"
        },
        "id": "noqcAy6hdjnQ",
        "outputId": "4574cb81-8e17-4bf0-b576-1fc9d5203f72"
      },
      "execution_count": 71,
      "outputs": [
        {
          "output_type": "stream",
          "name": "stdout",
          "text": [
            "[[1. 0.]\n",
            " [0. 1.]]\n"
          ]
        }
      ]
    },
    {
      "cell_type": "code",
      "source": [
        "e=np.eye(3)\n",
        "print(e)"
      ],
      "metadata": {
        "colab": {
          "base_uri": "https://localhost:8080/"
        },
        "id": "KtlZLXfKdpL2",
        "outputId": "fe3fd849-aec1-4837-ba64-4395c6321750"
      },
      "execution_count": 72,
      "outputs": [
        {
          "output_type": "stream",
          "name": "stdout",
          "text": [
            "[[1. 0. 0.]\n",
            " [0. 1. 0.]\n",
            " [0. 0. 1.]]\n"
          ]
        }
      ]
    },
    {
      "cell_type": "code",
      "source": [
        "#Create an array with random values\n",
        "np.random.random(3)"
      ],
      "metadata": {
        "colab": {
          "base_uri": "https://localhost:8080/"
        },
        "id": "EyJC67bDdqTR",
        "outputId": "7b83193f-3341-42da-e996-a36d637e3328"
      },
      "execution_count": 73,
      "outputs": [
        {
          "output_type": "execute_result",
          "data": {
            "text/plain": [
              "array([0.73586211, 0.24996136, 0.35146621])"
            ]
          },
          "metadata": {},
          "execution_count": 73
        }
      ]
    },
    {
      "cell_type": "code",
      "source": [
        "np.random.random((3,4))"
      ],
      "metadata": {
        "colab": {
          "base_uri": "https://localhost:8080/"
        },
        "id": "GREmt0RmdwAG",
        "outputId": "59f6ea1e-d8f7-4824-b178-c577a9e78ecc"
      },
      "execution_count": 74,
      "outputs": [
        {
          "output_type": "execute_result",
          "data": {
            "text/plain": [
              "array([[0.46224719, 0.13265373, 0.54320631, 0.8936076 ],\n",
              "       [0.15175231, 0.42589717, 0.38657126, 0.70301032],\n",
              "       [0.70396674, 0.36252468, 0.68515211, 0.54925472]])"
            ]
          },
          "metadata": {},
          "execution_count": 74
        }
      ]
    },
    {
      "cell_type": "code",
      "source": [
        "np.random.random((2,3,4))"
      ],
      "metadata": {
        "colab": {
          "base_uri": "https://localhost:8080/"
        },
        "id": "t-jj82FZdzVm",
        "outputId": "10355534-2bb5-42f0-87f6-139349745380"
      },
      "execution_count": 75,
      "outputs": [
        {
          "output_type": "execute_result",
          "data": {
            "text/plain": [
              "array([[[0.07084365, 0.47801228, 0.0165836 , 0.16909236],\n",
              "        [0.82981445, 0.29708973, 0.80280216, 0.10135062],\n",
              "        [0.35900442, 0.12319441, 0.93066777, 0.13405141]],\n",
              "\n",
              "       [[0.33974497, 0.15271246, 0.83770737, 0.18059252],\n",
              "        [0.80765105, 0.05712549, 0.2357579 , 0.51531473],\n",
              "        [0.62939844, 0.79994682, 0.59208914, 0.05080264]]])"
            ]
          },
          "metadata": {},
          "execution_count": 75
        }
      ]
    },
    {
      "cell_type": "code",
      "source": [
        "arr=np.array([1,2,3])\n",
        "print(arr.shape) #to find shape of an Array i.e (no. of rows,no. of cols)\n",
        "print(arr.size) #To Find NO of elements in array\n",
        "len(arr) #To Find len of array i.e # It Will count only the rows"
      ],
      "metadata": {
        "colab": {
          "base_uri": "https://localhost:8080/"
        },
        "id": "AAYw2R4Vd8AN",
        "outputId": "e2e7694c-9fc0-46d8-dab6-e057adc0e0f5"
      },
      "execution_count": 76,
      "outputs": [
        {
          "output_type": "stream",
          "name": "stdout",
          "text": [
            "(3,)\n",
            "3\n"
          ]
        },
        {
          "output_type": "execute_result",
          "data": {
            "text/plain": [
              "3"
            ]
          },
          "metadata": {},
          "execution_count": 76
        }
      ]
    },
    {
      "cell_type": "code",
      "source": [
        "arr=np.array([(1,2,3),(4,5,6)])\n",
        "print(arr.shape)\n",
        "print(arr.size)\n",
        "len(arr)"
      ],
      "metadata": {
        "colab": {
          "base_uri": "https://localhost:8080/"
        },
        "id": "S790j4XzeJ9z",
        "outputId": "6453455c-e85a-4337-986d-9494753cbfd4"
      },
      "execution_count": 77,
      "outputs": [
        {
          "output_type": "stream",
          "name": "stdout",
          "text": [
            "(2, 3)\n",
            "6\n"
          ]
        },
        {
          "output_type": "execute_result",
          "data": {
            "text/plain": [
              "2"
            ]
          },
          "metadata": {},
          "execution_count": 77
        }
      ]
    },
    {
      "cell_type": "code",
      "source": [
        "arr=np.array([[(1,2,3),(4,5,6)],\n",
        " [(7,8,9),(10,11,12)]])\n",
        "print(arr.shape)\n",
        "print(arr.size)\n",
        "len(arr)"
      ],
      "metadata": {
        "colab": {
          "base_uri": "https://localhost:8080/"
        },
        "id": "mkktF0a9ebaW",
        "outputId": "2019f0c4-9b2c-400f-ce67-349ad3617c52"
      },
      "execution_count": 78,
      "outputs": [
        {
          "output_type": "stream",
          "name": "stdout",
          "text": [
            "(2, 2, 3)\n",
            "12\n"
          ]
        },
        {
          "output_type": "execute_result",
          "data": {
            "text/plain": [
              "2"
            ]
          },
          "metadata": {},
          "execution_count": 78
        }
      ]
    },
    {
      "cell_type": "code",
      "source": [
        "arr=np.array([[[(1,2,3),(4,5,6)],[(7,8,9),(10,11,12)]],\n",
        " [[(1,2,3),(4,5,6)],[(7,8,9),(10,11,12)]]])\n",
        "print(arr.shape)\n",
        "print(arr.size)\n",
        "len(arr)"
      ],
      "metadata": {
        "colab": {
          "base_uri": "https://localhost:8080/"
        },
        "id": "GgILtaFLekHO",
        "outputId": "994664b7-33ae-4aa4-bdd8-bc6ec41f514c"
      },
      "execution_count": 79,
      "outputs": [
        {
          "output_type": "stream",
          "name": "stdout",
          "text": [
            "(2, 2, 2, 3)\n",
            "24\n"
          ]
        },
        {
          "output_type": "execute_result",
          "data": {
            "text/plain": [
              "2"
            ]
          },
          "metadata": {},
          "execution_count": 79
        }
      ]
    },
    {
      "cell_type": "code",
      "source": [
        "arr=np.array([[[[(1,2,3),(4,5,6)],[(7,8,9),(10,11,12)]],[[(1,2,3),(4,5,6)],[(7,8,9),(10,11,12)]]],\n",
        " [[[(1,2,3),(4,5,6)],[(7,8,9),(10,11,12)]],[[(1,2,3),(4,5,6)],[(7,8,9),(10,11,12)]]]])\n",
        "print(arr.shape)\n",
        "print(arr.size)\n",
        "len(arr)"
      ],
      "metadata": {
        "colab": {
          "base_uri": "https://localhost:8080/"
        },
        "id": "FZJyfsl-epQr",
        "outputId": "4ed892a4-8533-4071-d006-451983eeb36e"
      },
      "execution_count": 80,
      "outputs": [
        {
          "output_type": "stream",
          "name": "stdout",
          "text": [
            "(2, 2, 2, 2, 3)\n",
            "48\n"
          ]
        },
        {
          "output_type": "execute_result",
          "data": {
            "text/plain": [
              "2"
            ]
          },
          "metadata": {},
          "execution_count": 80
        }
      ]
    },
    {
      "cell_type": "code",
      "source": [
        "arr = np.array([[1, 2, 3, 4],\n",
        "                [5, 6, 7, 8],\n",
        "                [5, 7, 7, 8]])\n",
        "print(arr.shape)\n",
        "print(arr.size)\n",
        "len(arr)"
      ],
      "metadata": {
        "colab": {
          "base_uri": "https://localhost:8080/"
        },
        "id": "EnnA7fgte7X9",
        "outputId": "ceb4e32b-e285-47d6-f3b2-206eacd0a219"
      },
      "execution_count": 81,
      "outputs": [
        {
          "output_type": "stream",
          "name": "stdout",
          "text": [
            "(3, 4)\n",
            "12\n"
          ]
        },
        {
          "output_type": "execute_result",
          "data": {
            "text/plain": [
              "3"
            ]
          },
          "metadata": {},
          "execution_count": 81
        }
      ]
    },
    {
      "cell_type": "code",
      "source": [
        "arr = np.array([[1, 2, 3, 4],\n",
        "                [5, 6, 7, 8],\n",
        "                [5, 6, 7, 8],\n",
        "                [5, 7, 7, 8]])\n",
        "print(arr.shape)\n",
        "print(arr.size)\n",
        "len(arr)"
      ],
      "metadata": {
        "colab": {
          "base_uri": "https://localhost:8080/"
        },
        "id": "ca_jFFt4fRki",
        "outputId": "d93fbec4-cff5-40d7-b081-193135a72298"
      },
      "execution_count": 82,
      "outputs": [
        {
          "output_type": "stream",
          "name": "stdout",
          "text": [
            "(4, 4)\n",
            "16\n"
          ]
        },
        {
          "output_type": "execute_result",
          "data": {
            "text/plain": [
              "4"
            ]
          },
          "metadata": {},
          "execution_count": 82
        }
      ]
    },
    {
      "cell_type": "code",
      "source": [
        "np.random.randint(5,8)"
      ],
      "metadata": {
        "colab": {
          "base_uri": "https://localhost:8080/"
        },
        "id": "Llj7MstFfVQr",
        "outputId": "c6276bf1-3c01-4cbe-fdd2-2aaa0c0d1110"
      },
      "execution_count": 83,
      "outputs": [
        {
          "output_type": "execute_result",
          "data": {
            "text/plain": [
              "5"
            ]
          },
          "metadata": {},
          "execution_count": 83
        }
      ]
    },
    {
      "cell_type": "code",
      "source": [],
      "metadata": {
        "id": "gAcZIqK5fbkQ"
      },
      "execution_count": 83,
      "outputs": []
    }
  ]
}