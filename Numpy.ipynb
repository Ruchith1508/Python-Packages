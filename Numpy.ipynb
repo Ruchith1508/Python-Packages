{
  "nbformat": 4,
  "nbformat_minor": 0,
  "metadata": {
    "colab": {
      "provenance": []
    },
    "kernelspec": {
      "name": "python3",
      "display_name": "Python 3"
    },
    "language_info": {
      "name": "python"
    }
  },
  "cells": [
    {
      "cell_type": "code",
      "execution_count": 2,
      "metadata": {
        "colab": {
          "base_uri": "https://localhost:8080/"
        },
        "id": "vSlF_-5rXTHF",
        "outputId": "0ca85559-dd1d-417e-9491-9c61321a6e82"
      },
      "outputs": [
        {
          "output_type": "stream",
          "name": "stdout",
          "text": [
            "Requirement already satisfied: numpy in /usr/local/lib/python3.10/dist-packages (1.26.4)\n"
          ]
        }
      ],
      "source": [
        "!pip install numpy"
      ]
    },
    {
      "cell_type": "markdown",
      "source": [
        "# 1D Array"
      ],
      "metadata": {
        "id": "WJ0Ox22MYkNs"
      }
    },
    {
      "cell_type": "code",
      "source": [
        "import numpy as np\n",
        "\n",
        "arr=np.array([1,2,3])\n",
        "print(arr)"
      ],
      "metadata": {
        "colab": {
          "base_uri": "https://localhost:8080/"
        },
        "id": "WD9NZ_6GXZiu",
        "outputId": "0e98ff79-34f9-4ccd-9f98-4533271df8b7"
      },
      "execution_count": 3,
      "outputs": [
        {
          "output_type": "stream",
          "name": "stdout",
          "text": [
            "[1 2 3]\n"
          ]
        }
      ]
    },
    {
      "cell_type": "markdown",
      "source": [
        "# 2D Array"
      ],
      "metadata": {
        "id": "ZGPrl7cvYoJX"
      }
    },
    {
      "cell_type": "code",
      "source": [
        "arr=np.array([(1,2,3),(4,5,6)])\n",
        "print(arr)"
      ],
      "metadata": {
        "colab": {
          "base_uri": "https://localhost:8080/"
        },
        "id": "rHkzrlbeYWtZ",
        "outputId": "99bdef98-6791-478f-bcfe-938f7c8b873b"
      },
      "execution_count": 4,
      "outputs": [
        {
          "output_type": "stream",
          "name": "stdout",
          "text": [
            "[[1 2 3]\n",
            " [4 5 6]]\n"
          ]
        }
      ]
    },
    {
      "cell_type": "markdown",
      "source": [
        "# 3D Array"
      ],
      "metadata": {
        "id": "zLdPiolmY-gl"
      }
    },
    {
      "cell_type": "code",
      "source": [
        "arr=np.array([[(1,2,3),(4,5,6)],[(7,8,9),(10,11,12)]])\n",
        "print(arr)"
      ],
      "metadata": {
        "colab": {
          "base_uri": "https://localhost:8080/"
        },
        "id": "5pg4aTdkY1Vk",
        "outputId": "e84825b9-c24f-4d62-8d69-07c5bce2ca64"
      },
      "execution_count": 5,
      "outputs": [
        {
          "output_type": "stream",
          "name": "stdout",
          "text": [
            "[[[ 1  2  3]\n",
            "  [ 4  5  6]]\n",
            "\n",
            " [[ 7  8  9]\n",
            "  [10 11 12]]]\n"
          ]
        }
      ]
    },
    {
      "cell_type": "markdown",
      "source": [
        "# 4D Array"
      ],
      "metadata": {
        "id": "mpgBSrBsa1QN"
      }
    },
    {
      "cell_type": "code",
      "source": [
        "arr=np.array([[[(1,2,3),(4,5,6)],[(7,8,9),(10,11,12)]],[[(1,2,3),(4,5,6)],[(7,8,9),(10,11,12)]]])\n",
        "print(arr)"
      ],
      "metadata": {
        "colab": {
          "base_uri": "https://localhost:8080/"
        },
        "id": "LmrRfDvzZW7Y",
        "outputId": "5f61d9aa-cf6a-429f-dfe8-350a8d04ac23"
      },
      "execution_count": 6,
      "outputs": [
        {
          "output_type": "stream",
          "name": "stdout",
          "text": [
            "[[[[ 1  2  3]\n",
            "   [ 4  5  6]]\n",
            "\n",
            "  [[ 7  8  9]\n",
            "   [10 11 12]]]\n",
            "\n",
            "\n",
            " [[[ 1  2  3]\n",
            "   [ 4  5  6]]\n",
            "\n",
            "  [[ 7  8  9]\n",
            "   [10 11 12]]]]\n"
          ]
        }
      ]
    },
    {
      "cell_type": "markdown",
      "source": [
        "# 5D Array"
      ],
      "metadata": {
        "id": "ktlaWSQlbkTH"
      }
    },
    {
      "cell_type": "code",
      "source": [
        "arr=np.array([[[[(1,2,3),(4,5,6)],[(7,8,9),(10,11,12)]],[[(1,2,3),(4,5,6)],[(7,8,9),(10,11,12)]]],[[[(1,2,3),(4,5,6)],[(7,8,9),(10,11,12)]],[[(1,2,3),(4,5,6)],[(7,8,9),(10,11,12)]]]])\n",
        "print(arr)"
      ],
      "metadata": {
        "colab": {
          "base_uri": "https://localhost:8080/"
        },
        "id": "IAkDY24naph5",
        "outputId": "7b2f7475-6cd7-435b-c853-323bc43b88e7"
      },
      "execution_count": 7,
      "outputs": [
        {
          "output_type": "stream",
          "name": "stdout",
          "text": [
            "[[[[[ 1  2  3]\n",
            "    [ 4  5  6]]\n",
            "\n",
            "   [[ 7  8  9]\n",
            "    [10 11 12]]]\n",
            "\n",
            "\n",
            "  [[[ 1  2  3]\n",
            "    [ 4  5  6]]\n",
            "\n",
            "   [[ 7  8  9]\n",
            "    [10 11 12]]]]\n",
            "\n",
            "\n",
            "\n",
            " [[[[ 1  2  3]\n",
            "    [ 4  5  6]]\n",
            "\n",
            "   [[ 7  8  9]\n",
            "    [10 11 12]]]\n",
            "\n",
            "\n",
            "  [[[ 1  2  3]\n",
            "    [ 4  5  6]]\n",
            "\n",
            "   [[ 7  8  9]\n",
            "    [10 11 12]]]]]\n"
          ]
        }
      ]
    },
    {
      "cell_type": "markdown",
      "source": [
        "# Initial Placeholders"
      ],
      "metadata": {
        "id": "hA5lR_Ssbo79"
      }
    },
    {
      "cell_type": "code",
      "source": [
        "#Create an array of zeros\n",
        "arr=np.array(np.zeros(3))\n",
        "print(arr)"
      ],
      "metadata": {
        "colab": {
          "base_uri": "https://localhost:8080/"
        },
        "id": "s0m905RfbdJJ",
        "outputId": "831d2f58-f4ef-40f3-dedd-a8527734a2cd"
      },
      "execution_count": 8,
      "outputs": [
        {
          "output_type": "stream",
          "name": "stdout",
          "text": [
            "[0. 0. 0.]\n"
          ]
        }
      ]
    },
    {
      "cell_type": "code",
      "source": [
        "arr=np.array(np.zeros((3,4)))\n",
        "print(arr)"
      ],
      "metadata": {
        "colab": {
          "base_uri": "https://localhost:8080/"
        },
        "id": "bWm29r2Bb40v",
        "outputId": "00e09430-4aac-44dc-990f-2341a52e4c22"
      },
      "execution_count": 9,
      "outputs": [
        {
          "output_type": "stream",
          "name": "stdout",
          "text": [
            "[[0. 0. 0. 0.]\n",
            " [0. 0. 0. 0.]\n",
            " [0. 0. 0. 0.]]\n"
          ]
        }
      ]
    },
    {
      "cell_type": "code",
      "source": [
        "arr=np.array(np.zeros((2,3,4)))\n",
        "print(arr)"
      ],
      "metadata": {
        "colab": {
          "base_uri": "https://localhost:8080/"
        },
        "id": "kxh92fP0b-bD",
        "outputId": "8ee26711-0e38-4ae9-c3b7-b2cc3740cfa5"
      },
      "execution_count": 10,
      "outputs": [
        {
          "output_type": "stream",
          "name": "stdout",
          "text": [
            "[[[0. 0. 0. 0.]\n",
            "  [0. 0. 0. 0.]\n",
            "  [0. 0. 0. 0.]]\n",
            "\n",
            " [[0. 0. 0. 0.]\n",
            "  [0. 0. 0. 0.]\n",
            "  [0. 0. 0. 0.]]]\n"
          ]
        }
      ]
    },
    {
      "cell_type": "code",
      "source": [
        "#Create an array of ones\n",
        "arr=np.array(np.ones((2,3,4)))\n",
        "print(arr)"
      ],
      "metadata": {
        "colab": {
          "base_uri": "https://localhost:8080/"
        },
        "id": "iC4OdM9QcKr2",
        "outputId": "eb8e4793-1ed7-4326-c2e4-6ffcc1082a5c"
      },
      "execution_count": 11,
      "outputs": [
        {
          "output_type": "stream",
          "name": "stdout",
          "text": [
            "[[[1. 1. 1. 1.]\n",
            "  [1. 1. 1. 1.]\n",
            "  [1. 1. 1. 1.]]\n",
            "\n",
            " [[1. 1. 1. 1.]\n",
            "  [1. 1. 1. 1.]\n",
            "  [1. 1. 1. 1.]]]\n"
          ]
        }
      ]
    },
    {
      "cell_type": "code",
      "source": [
        "#Create an array of evenly spaced values (step value)\n",
        "a=np.arange(5,25,2)\n",
        "print(a)"
      ],
      "metadata": {
        "colab": {
          "base_uri": "https://localhost:8080/"
        },
        "id": "GvFnTfjQcPo-",
        "outputId": "70f45c9c-b4ea-4f03-d14d-0cf2fb26e88e"
      },
      "execution_count": 12,
      "outputs": [
        {
          "output_type": "stream",
          "name": "stdout",
          "text": [
            "[ 5  7  9 11 13 15 17 19 21 23]\n"
          ]
        }
      ]
    },
    {
      "cell_type": "code",
      "source": [
        "#Create an array of evenlyspaced values (number of samples)\n",
        "b=np.linspace(1,10,10)\n",
        "print(b)"
      ],
      "metadata": {
        "colab": {
          "base_uri": "https://localhost:8080/"
        },
        "id": "gwJW3TDncZd0",
        "outputId": "975e8fe9-cb29-4530-f050-d3225d82e910"
      },
      "execution_count": 13,
      "outputs": [
        {
          "output_type": "stream",
          "name": "stdout",
          "text": [
            "[ 1.  2.  3.  4.  5.  6.  7.  8.  9. 10.]\n"
          ]
        }
      ]
    },
    {
      "cell_type": "code",
      "source": [
        "#Create a constant array\n",
        "#Create a 1D array\n",
        "c=np.full((2,3),7)\n",
        "print(c)\n",
        "print(c.ndim)"
      ],
      "metadata": {
        "colab": {
          "base_uri": "https://localhost:8080/"
        },
        "id": "fYU94-M5cmj_",
        "outputId": "18a2b441-43fa-4304-fd71-4cd04bf21f74"
      },
      "execution_count": 14,
      "outputs": [
        {
          "output_type": "stream",
          "name": "stdout",
          "text": [
            "[[7 7 7]\n",
            " [7 7 7]]\n",
            "2\n"
          ]
        }
      ]
    },
    {
      "cell_type": "code",
      "source": [
        "d=np.full((2,2,3),7)\n",
        "print(d)\n",
        "print(d.ndim)"
      ],
      "metadata": {
        "colab": {
          "base_uri": "https://localhost:8080/"
        },
        "id": "PsD_R8Fdc_7Q",
        "outputId": "52cb79c2-e4ed-490d-8807-f1dfd3eef77b"
      },
      "execution_count": 15,
      "outputs": [
        {
          "output_type": "stream",
          "name": "stdout",
          "text": [
            "[[[7 7 7]\n",
            "  [7 7 7]]\n",
            "\n",
            " [[7 7 7]\n",
            "  [7 7 7]]]\n",
            "3\n"
          ]
        }
      ]
    },
    {
      "cell_type": "code",
      "source": [
        "#Create a 2X2 identity matrix\n",
        "e=np.eye(1)\n",
        "print(e)"
      ],
      "metadata": {
        "colab": {
          "base_uri": "https://localhost:8080/"
        },
        "id": "-km3w4u7dcK5",
        "outputId": "8a5118a4-97f4-4eac-d12e-fd7f8151d545"
      },
      "execution_count": 16,
      "outputs": [
        {
          "output_type": "stream",
          "name": "stdout",
          "text": [
            "[[1.]]\n"
          ]
        }
      ]
    },
    {
      "cell_type": "code",
      "source": [
        "e=np.eye(2)\n",
        "print(e)"
      ],
      "metadata": {
        "colab": {
          "base_uri": "https://localhost:8080/"
        },
        "id": "noqcAy6hdjnQ",
        "outputId": "6972f1ff-7734-4aa6-84fe-38b698d89546"
      },
      "execution_count": 17,
      "outputs": [
        {
          "output_type": "stream",
          "name": "stdout",
          "text": [
            "[[1. 0.]\n",
            " [0. 1.]]\n"
          ]
        }
      ]
    },
    {
      "cell_type": "code",
      "source": [
        "e=np.eye(3)\n",
        "print(e)"
      ],
      "metadata": {
        "colab": {
          "base_uri": "https://localhost:8080/"
        },
        "id": "KtlZLXfKdpL2",
        "outputId": "81531f6e-f873-49ae-92b8-66431b2f1770"
      },
      "execution_count": 18,
      "outputs": [
        {
          "output_type": "stream",
          "name": "stdout",
          "text": [
            "[[1. 0. 0.]\n",
            " [0. 1. 0.]\n",
            " [0. 0. 1.]]\n"
          ]
        }
      ]
    },
    {
      "cell_type": "code",
      "source": [
        "#Create an array with random values\n",
        "np.random.random(3)"
      ],
      "metadata": {
        "colab": {
          "base_uri": "https://localhost:8080/"
        },
        "id": "EyJC67bDdqTR",
        "outputId": "5633d4f3-4c15-4263-cad9-d4da0779209b"
      },
      "execution_count": 19,
      "outputs": [
        {
          "output_type": "execute_result",
          "data": {
            "text/plain": [
              "array([0.34835159, 0.7832701 , 0.79021434])"
            ]
          },
          "metadata": {},
          "execution_count": 19
        }
      ]
    },
    {
      "cell_type": "code",
      "source": [
        "np.random.random((3,4))"
      ],
      "metadata": {
        "colab": {
          "base_uri": "https://localhost:8080/"
        },
        "id": "GREmt0RmdwAG",
        "outputId": "5fce4722-59b4-4cd5-f31b-18940b650127"
      },
      "execution_count": 20,
      "outputs": [
        {
          "output_type": "execute_result",
          "data": {
            "text/plain": [
              "array([[0.54814   , 0.18563433, 0.33571306, 0.35129565],\n",
              "       [0.62256123, 0.46438058, 0.96669336, 0.12330465],\n",
              "       [0.87747557, 0.11468468, 0.38958222, 0.34274161]])"
            ]
          },
          "metadata": {},
          "execution_count": 20
        }
      ]
    },
    {
      "cell_type": "code",
      "source": [
        "np.random.random((2,3,4))"
      ],
      "metadata": {
        "colab": {
          "base_uri": "https://localhost:8080/"
        },
        "id": "t-jj82FZdzVm",
        "outputId": "621216cc-dad8-45c6-f291-51a01e27058c"
      },
      "execution_count": 21,
      "outputs": [
        {
          "output_type": "execute_result",
          "data": {
            "text/plain": [
              "array([[[0.69182198, 0.17327166, 0.1906692 , 0.4389173 ],\n",
              "        [0.71520066, 0.43553023, 0.49073617, 0.12113302],\n",
              "        [0.66845923, 0.1746303 , 0.73975128, 0.10737628]],\n",
              "\n",
              "       [[0.92043149, 0.83976334, 0.40464798, 0.75050094],\n",
              "        [0.47061862, 0.81888836, 0.33461466, 0.74536317],\n",
              "        [0.64014696, 0.92187483, 0.12373023, 0.25379177]]])"
            ]
          },
          "metadata": {},
          "execution_count": 21
        }
      ]
    },
    {
      "cell_type": "code",
      "source": [
        "arr=np.array([1,2,3])\n",
        "print(arr.shape) #to find shape of an Array i.e (no. of rows,no. of cols)\n",
        "print(arr.size) #To Find NO of elements in array\n",
        "len(arr) #To Find len of array i.e # It Will count only the rows"
      ],
      "metadata": {
        "colab": {
          "base_uri": "https://localhost:8080/"
        },
        "id": "AAYw2R4Vd8AN",
        "outputId": "ee355592-0f31-49c2-cfb3-9653bb3a3f93"
      },
      "execution_count": 22,
      "outputs": [
        {
          "output_type": "stream",
          "name": "stdout",
          "text": [
            "(3,)\n",
            "3\n"
          ]
        },
        {
          "output_type": "execute_result",
          "data": {
            "text/plain": [
              "3"
            ]
          },
          "metadata": {},
          "execution_count": 22
        }
      ]
    },
    {
      "cell_type": "code",
      "source": [
        "arr=np.array([(1,2,3),(4,5,6)])\n",
        "print(arr.shape)\n",
        "print(arr.size)\n",
        "len(arr)"
      ],
      "metadata": {
        "colab": {
          "base_uri": "https://localhost:8080/"
        },
        "id": "S790j4XzeJ9z",
        "outputId": "f4a48890-08fb-4052-f88a-27395857ad51"
      },
      "execution_count": 23,
      "outputs": [
        {
          "output_type": "stream",
          "name": "stdout",
          "text": [
            "(2, 3)\n",
            "6\n"
          ]
        },
        {
          "output_type": "execute_result",
          "data": {
            "text/plain": [
              "2"
            ]
          },
          "metadata": {},
          "execution_count": 23
        }
      ]
    },
    {
      "cell_type": "code",
      "source": [
        "arr=np.array([[(1,2,3),(4,5,6)],\n",
        " [(7,8,9),(10,11,12)]])\n",
        "print(arr.shape)\n",
        "print(arr.size)\n",
        "len(arr)"
      ],
      "metadata": {
        "colab": {
          "base_uri": "https://localhost:8080/"
        },
        "id": "mkktF0a9ebaW",
        "outputId": "98538a3d-3b3c-414b-c8d9-d8a6975256ed"
      },
      "execution_count": 24,
      "outputs": [
        {
          "output_type": "stream",
          "name": "stdout",
          "text": [
            "(2, 2, 3)\n",
            "12\n"
          ]
        },
        {
          "output_type": "execute_result",
          "data": {
            "text/plain": [
              "2"
            ]
          },
          "metadata": {},
          "execution_count": 24
        }
      ]
    },
    {
      "cell_type": "code",
      "source": [
        "arr=np.array([[[(1,2,3),(4,5,6)],[(7,8,9),(10,11,12)]],\n",
        " [[(1,2,3),(4,5,6)],[(7,8,9),(10,11,12)]]])\n",
        "print(arr.shape)\n",
        "print(arr.size)\n",
        "len(arr)"
      ],
      "metadata": {
        "colab": {
          "base_uri": "https://localhost:8080/"
        },
        "id": "GgILtaFLekHO",
        "outputId": "229a8b43-b0a7-434f-9c83-eb5bcacd8b2e"
      },
      "execution_count": 25,
      "outputs": [
        {
          "output_type": "stream",
          "name": "stdout",
          "text": [
            "(2, 2, 2, 3)\n",
            "24\n"
          ]
        },
        {
          "output_type": "execute_result",
          "data": {
            "text/plain": [
              "2"
            ]
          },
          "metadata": {},
          "execution_count": 25
        }
      ]
    },
    {
      "cell_type": "code",
      "source": [
        "arr=np.array([[[[(1,2,3),(4,5,6)],[(7,8,9),(10,11,12)]],[[(1,2,3),(4,5,6)],[(7,8,9),(10,11,12)]]],\n",
        " [[[(1,2,3),(4,5,6)],[(7,8,9),(10,11,12)]],[[(1,2,3),(4,5,6)],[(7,8,9),(10,11,12)]]]])\n",
        "print(arr.shape)\n",
        "print(arr.size)\n",
        "len(arr)"
      ],
      "metadata": {
        "colab": {
          "base_uri": "https://localhost:8080/"
        },
        "id": "FZJyfsl-epQr",
        "outputId": "c0b7d60d-4601-486e-e727-0d34fb704b54"
      },
      "execution_count": 26,
      "outputs": [
        {
          "output_type": "stream",
          "name": "stdout",
          "text": [
            "(2, 2, 2, 2, 3)\n",
            "48\n"
          ]
        },
        {
          "output_type": "execute_result",
          "data": {
            "text/plain": [
              "2"
            ]
          },
          "metadata": {},
          "execution_count": 26
        }
      ]
    },
    {
      "cell_type": "code",
      "source": [
        "arr = np.array([[1, 2, 3, 4],\n",
        "                [5, 6, 7, 8],\n",
        "                [5, 7, 7, 8]])\n",
        "print(arr.shape)\n",
        "print(arr.size)\n",
        "len(arr)"
      ],
      "metadata": {
        "colab": {
          "base_uri": "https://localhost:8080/"
        },
        "id": "EnnA7fgte7X9",
        "outputId": "3a8af8d6-b7ef-4658-8e0f-70a9de0f56b8"
      },
      "execution_count": 27,
      "outputs": [
        {
          "output_type": "stream",
          "name": "stdout",
          "text": [
            "(3, 4)\n",
            "12\n"
          ]
        },
        {
          "output_type": "execute_result",
          "data": {
            "text/plain": [
              "3"
            ]
          },
          "metadata": {},
          "execution_count": 27
        }
      ]
    },
    {
      "cell_type": "code",
      "source": [
        "arr = np.array([[1, 2, 3, 4],\n",
        "                [5, 6, 7, 8],\n",
        "                [5, 6, 7, 8],\n",
        "                [5, 7, 7, 8]])\n",
        "print(arr.shape)\n",
        "print(arr.size)\n",
        "len(arr)"
      ],
      "metadata": {
        "colab": {
          "base_uri": "https://localhost:8080/"
        },
        "id": "ca_jFFt4fRki",
        "outputId": "c5a11496-84cd-4395-e56e-d11cfe809989"
      },
      "execution_count": 28,
      "outputs": [
        {
          "output_type": "stream",
          "name": "stdout",
          "text": [
            "(4, 4)\n",
            "16\n"
          ]
        },
        {
          "output_type": "execute_result",
          "data": {
            "text/plain": [
              "4"
            ]
          },
          "metadata": {},
          "execution_count": 28
        }
      ]
    },
    {
      "cell_type": "code",
      "source": [
        "np.random.randint(5,8)"
      ],
      "metadata": {
        "colab": {
          "base_uri": "https://localhost:8080/"
        },
        "id": "Llj7MstFfVQr",
        "outputId": "1faa0f11-bb10-4c97-8689-dda7420843e7"
      },
      "execution_count": 29,
      "outputs": [
        {
          "output_type": "execute_result",
          "data": {
            "text/plain": [
              "6"
            ]
          },
          "metadata": {},
          "execution_count": 29
        }
      ]
    },
    {
      "cell_type": "markdown",
      "source": [
        "# Access Array Elements"
      ],
      "metadata": {
        "id": "bz6OOxoG3fQd"
      }
    },
    {
      "cell_type": "code",
      "source": [
        "arr=np.array([1,2,3,4])\n",
        "print(arr[3])"
      ],
      "metadata": {
        "id": "gAcZIqK5fbkQ",
        "colab": {
          "base_uri": "https://localhost:8080/"
        },
        "outputId": "9bc69108-1e75-420a-d21f-26eb674707b9"
      },
      "execution_count": 31,
      "outputs": [
        {
          "output_type": "stream",
          "name": "stdout",
          "text": [
            "4\n"
          ]
        }
      ]
    },
    {
      "cell_type": "code",
      "source": [
        "arr=np.array([[1,2,3,4],\n",
        "             [5,6,7,8]])\n",
        "print(arr[0,3])"
      ],
      "metadata": {
        "colab": {
          "base_uri": "https://localhost:8080/"
        },
        "id": "GMJ12I2B32H6",
        "outputId": "d2361ddf-b43a-4b6d-e771-8464cfe55a66"
      },
      "execution_count": 33,
      "outputs": [
        {
          "output_type": "stream",
          "name": "stdout",
          "text": [
            "4\n"
          ]
        }
      ]
    },
    {
      "cell_type": "code",
      "source": [
        "arr = np.array([[[1, 2, 3], [4, 5, 6]],\n",
        "                [[7, 8, 9], [10, 11, 12]]])\n",
        "print(arr[1,1,2])"
      ],
      "metadata": {
        "colab": {
          "base_uri": "https://localhost:8080/"
        },
        "id": "IGml_90N4um3",
        "outputId": "ba3c1ca1-4b15-43a9-9741-deb22a46db65"
      },
      "execution_count": 38,
      "outputs": [
        {
          "output_type": "stream",
          "name": "stdout",
          "text": [
            "12\n"
          ]
        }
      ]
    },
    {
      "cell_type": "code",
      "source": [
        "arr=np.array([1,2,3,4])\n",
        "arr=np.array([5,6,7,8])\n",
        "print(arr[3]+arr[2])"
      ],
      "metadata": {
        "colab": {
          "base_uri": "https://localhost:8080/"
        },
        "id": "rhQJkomv4iKg",
        "outputId": "23cdec20-7def-4865-b351-3768cd9cddde"
      },
      "execution_count": 34,
      "outputs": [
        {
          "output_type": "stream",
          "name": "stdout",
          "text": [
            "15\n"
          ]
        }
      ]
    },
    {
      "cell_type": "markdown",
      "source": [
        "# Data Types"
      ],
      "metadata": {
        "id": "3RK2LJF_5Ff2"
      }
    },
    {
      "cell_type": "code",
      "source": [
        "arr=np.array([4,5,6,7,8,9],dtype='S')\n",
        "print(arr)\n",
        "print(arr.dtype)"
      ],
      "metadata": {
        "colab": {
          "base_uri": "https://localhost:8080/"
        },
        "id": "xP_NA75J5HFi",
        "outputId": "79601418-9257-4ab1-a31e-07e1a81de087"
      },
      "execution_count": 40,
      "outputs": [
        {
          "output_type": "stream",
          "name": "stdout",
          "text": [
            "[b'4' b'5' b'6' b'7' b'8' b'9']\n",
            "|S1\n"
          ]
        }
      ]
    },
    {
      "cell_type": "code",
      "source": [
        "arr=np.array([4,5,6,7,8,9],dtype='i4')\n",
        "print(arr)\n",
        "print(arr.dtype)"
      ],
      "metadata": {
        "colab": {
          "base_uri": "https://localhost:8080/"
        },
        "id": "INh6kBo-5XCC",
        "outputId": "8c4e1806-79a2-43ff-9a8c-b289346f35f0"
      },
      "execution_count": 41,
      "outputs": [
        {
          "output_type": "stream",
          "name": "stdout",
          "text": [
            "[4 5 6 7 8 9]\n",
            "int32\n"
          ]
        }
      ]
    },
    {
      "cell_type": "code",
      "source": [
        "arr=np.array([10,11,12,13],dtype='i8')\n",
        "print(arr)\n",
        "print(arr.dtype)"
      ],
      "metadata": {
        "colab": {
          "base_uri": "https://localhost:8080/"
        },
        "id": "kPf6aHIZ5e1f",
        "outputId": "775c18ea-22e8-4e5e-ff0f-15e93d7d6c8e"
      },
      "execution_count": 44,
      "outputs": [
        {
          "output_type": "stream",
          "name": "stdout",
          "text": [
            "[10 11 12 13]\n",
            "int64\n"
          ]
        }
      ]
    },
    {
      "cell_type": "code",
      "source": [
        "arr=np.array([2.1,5.3,5.7])\n",
        "newarr=arr.astype('i')\n",
        "print(arr)\n",
        "print(newarr)"
      ],
      "metadata": {
        "colab": {
          "base_uri": "https://localhost:8080/"
        },
        "id": "zfp1qGIu5gwD",
        "outputId": "0c1c119c-fedf-4575-948a-9bc3cce9c63e"
      },
      "execution_count": 47,
      "outputs": [
        {
          "output_type": "stream",
          "name": "stdout",
          "text": [
            "[2.1 5.3 5.7]\n",
            "[2 5 5]\n"
          ]
        }
      ]
    },
    {
      "cell_type": "code",
      "source": [
        "arr=np.array([2.1,5.3,5.7])\n",
        "newarr=arr.astype(bool)\n",
        "print(arr)\n",
        "print(newarr)"
      ],
      "metadata": {
        "colab": {
          "base_uri": "https://localhost:8080/"
        },
        "id": "AHaEWf3B5kxc",
        "outputId": "812d8fa9-5a73-4ed8-b187-5b0e09162465"
      },
      "execution_count": 48,
      "outputs": [
        {
          "output_type": "stream",
          "name": "stdout",
          "text": [
            "[2.1 5.3 5.7]\n",
            "[ True  True  True]\n"
          ]
        }
      ]
    },
    {
      "cell_type": "code",
      "source": [
        "arr=np.array([3,4,6,8])\n",
        "copyarr=arr.copy()\n",
        "arr[2]=20\n",
        "print(arr)\n",
        "print(copyarr)"
      ],
      "metadata": {
        "colab": {
          "base_uri": "https://localhost:8080/"
        },
        "id": "IW6WLDFx6ASU",
        "outputId": "19312ef5-3463-4821-ea7a-63b52acb8843"
      },
      "execution_count": 49,
      "outputs": [
        {
          "output_type": "stream",
          "name": "stdout",
          "text": [
            "[ 3  4 20  8]\n",
            "[3 4 6 8]\n"
          ]
        }
      ]
    },
    {
      "cell_type": "code",
      "source": [
        "arr=np.array([3,4,6,8])\n",
        "copyarr=arr.view()\n",
        "arr[2]=20\n",
        "print(arr)\n",
        "print(copyarr)"
      ],
      "metadata": {
        "colab": {
          "base_uri": "https://localhost:8080/"
        },
        "id": "GdJJBoL56QvL",
        "outputId": "37ea6e44-4c70-44e2-897a-ab04dd3cd772"
      },
      "execution_count": 50,
      "outputs": [
        {
          "output_type": "stream",
          "name": "stdout",
          "text": [
            "[ 3  4 20  8]\n",
            "[ 3  4 20  8]\n"
          ]
        }
      ]
    },
    {
      "cell_type": "code",
      "source": [
        "arr=np.array([[3,4,6,8],[3,5,6,8]])\n",
        "print(arr.shape)"
      ],
      "metadata": {
        "colab": {
          "base_uri": "https://localhost:8080/"
        },
        "id": "68UMiPw96VPl",
        "outputId": "8dc3b34a-3e61-451f-b662-98f4c5b4c6f5"
      },
      "execution_count": 53,
      "outputs": [
        {
          "output_type": "stream",
          "name": "stdout",
          "text": [
            "(2, 4)\n"
          ]
        }
      ]
    },
    {
      "cell_type": "markdown",
      "source": [
        "# Reshaping Array"
      ],
      "metadata": {
        "id": "2s1C2uW66l9i"
      }
    },
    {
      "cell_type": "code",
      "source": [
        "#Converting 1D to 2D\n",
        "arr=np.array([1,2,3,4])\n",
        "arr.reshape(2,2)"
      ],
      "metadata": {
        "colab": {
          "base_uri": "https://localhost:8080/"
        },
        "id": "apAuFHMX6a9u",
        "outputId": "5b825bce-6156-4cf4-efc8-fe365365ab30"
      },
      "execution_count": 55,
      "outputs": [
        {
          "output_type": "execute_result",
          "data": {
            "text/plain": [
              "array([[1, 2],\n",
              "       [3, 4]])"
            ]
          },
          "metadata": {},
          "execution_count": 55
        }
      ]
    },
    {
      "cell_type": "code",
      "source": [
        "#Converting 1D to 3D\n",
        "arr=np.array([1,2,3,4,5,6,7,8])\n",
        "arr.reshape(2,2,2)"
      ],
      "metadata": {
        "colab": {
          "base_uri": "https://localhost:8080/"
        },
        "id": "s1Qyv6zM7B__",
        "outputId": "0d4769f5-2d55-4dfa-ef5b-3b3cc3833348"
      },
      "execution_count": 56,
      "outputs": [
        {
          "output_type": "execute_result",
          "data": {
            "text/plain": [
              "array([[[1, 2],\n",
              "        [3, 4]],\n",
              "\n",
              "       [[5, 6],\n",
              "        [7, 8]]])"
            ]
          },
          "metadata": {},
          "execution_count": 56
        }
      ]
    },
    {
      "cell_type": "code",
      "source": [
        "#Converting 2D to 1D\n",
        "arr=np.array([[1, 2],\n",
        "              [3, 4]])\n",
        "arr.reshape(4)"
      ],
      "metadata": {
        "colab": {
          "base_uri": "https://localhost:8080/"
        },
        "id": "SihjrzFz7c0g",
        "outputId": "1d3df0c4-0f25-4c6c-9724-299aff7e01a5"
      },
      "execution_count": 57,
      "outputs": [
        {
          "output_type": "execute_result",
          "data": {
            "text/plain": [
              "array([1, 2, 3, 4])"
            ]
          },
          "metadata": {},
          "execution_count": 57
        }
      ]
    },
    {
      "cell_type": "code",
      "source": [
        "#Converting 3D to 1D\n",
        "arr=np.array([[[1, 2],\n",
        "        [3, 4]],\n",
        "\n",
        "       [[5, 6],\n",
        "        [7, 8]]])\n",
        "arr.reshape(8)"
      ],
      "metadata": {
        "colab": {
          "base_uri": "https://localhost:8080/"
        },
        "id": "2UncVd3b71cg",
        "outputId": "37186d97-645c-4770-ce34-bce395880c2e"
      },
      "execution_count": 58,
      "outputs": [
        {
          "output_type": "execute_result",
          "data": {
            "text/plain": [
              "array([1, 2, 3, 4, 5, 6, 7, 8])"
            ]
          },
          "metadata": {},
          "execution_count": 58
        }
      ]
    },
    {
      "cell_type": "code",
      "source": [
        "#Converting 2D to 3D\n",
        "arr=np.array([[1, 2],\n",
        "              [3, 4]])\n",
        "arr.reshape(2,1,2)"
      ],
      "metadata": {
        "colab": {
          "base_uri": "https://localhost:8080/"
        },
        "id": "4wH4Prem8E66",
        "outputId": "f23d8e9d-ba98-4a5d-867e-5603fe0f6893"
      },
      "execution_count": 59,
      "outputs": [
        {
          "output_type": "execute_result",
          "data": {
            "text/plain": [
              "array([[[1, 2]],\n",
              "\n",
              "       [[3, 4]]])"
            ]
          },
          "metadata": {},
          "execution_count": 59
        }
      ]
    },
    {
      "cell_type": "code",
      "source": [
        "#Converting 3D to 2D\n",
        "arr=np.array([[[1, 2],\n",
        "        [3, 4]],\n",
        "\n",
        "       [[5, 6],\n",
        "        [7, 8]]])\n",
        "arr.reshape(4,2)"
      ],
      "metadata": {
        "colab": {
          "base_uri": "https://localhost:8080/"
        },
        "id": "C1JzZY718Wy3",
        "outputId": "45be1bac-b013-4190-ce7c-e1f3f29d17fe"
      },
      "execution_count": 60,
      "outputs": [
        {
          "output_type": "execute_result",
          "data": {
            "text/plain": [
              "array([[1, 2],\n",
              "       [3, 4],\n",
              "       [5, 6],\n",
              "       [7, 8]])"
            ]
          },
          "metadata": {},
          "execution_count": 60
        }
      ]
    },
    {
      "cell_type": "code",
      "source": [
        "arr1=np.array([[1,2,3,4],[5,6,7,8]])\n",
        "arr2=np.array([[9,10,11,12],[13,14,15,16]])\n",
        "print(arr1+arr2)\n",
        "print(np.add(arr1,arr2))"
      ],
      "metadata": {
        "colab": {
          "base_uri": "https://localhost:8080/"
        },
        "id": "Gf2m_3mE8iLA",
        "outputId": "e0196154-b605-426a-bb99-eb8281784144"
      },
      "execution_count": 62,
      "outputs": [
        {
          "output_type": "stream",
          "name": "stdout",
          "text": [
            "[[10 12 14 16]\n",
            " [18 20 22 24]]\n",
            "[[10 12 14 16]\n",
            " [18 20 22 24]]\n"
          ]
        }
      ]
    },
    {
      "cell_type": "code",
      "source": [
        "arr1=np.array([[1,2,3,4],[5,6,7,8]])\n",
        "arr2=np.array([[9,10,11,12],[13,14,15,16]])\n",
        "print(arr2-arr1)\n",
        "print(np.subtract(arr2,arr1))"
      ],
      "metadata": {
        "colab": {
          "base_uri": "https://localhost:8080/"
        },
        "id": "VZ_KPos69GLM",
        "outputId": "8124ed10-536f-4c25-f812-a89c14473b64"
      },
      "execution_count": 64,
      "outputs": [
        {
          "output_type": "stream",
          "name": "stdout",
          "text": [
            "[[8 8 8 8]\n",
            " [8 8 8 8]]\n",
            "[[8 8 8 8]\n",
            " [8 8 8 8]]\n"
          ]
        }
      ]
    },
    {
      "cell_type": "code",
      "source": [
        "arr1=np.array([[1,2,3,4],[5,6,7,8]])\n",
        "arr2=np.array([[9,10,11,12],[13,14,15,16]])\n",
        "print(arr1*arr2)\n",
        "print(np.multiply(arr1,arr2))"
      ],
      "metadata": {
        "colab": {
          "base_uri": "https://localhost:8080/"
        },
        "id": "p8Icb5UM9RLL",
        "outputId": "76821571-98f8-4700-ac40-0eb83a99fbe9"
      },
      "execution_count": 65,
      "outputs": [
        {
          "output_type": "stream",
          "name": "stdout",
          "text": [
            "[[  9  20  33  48]\n",
            " [ 65  84 105 128]]\n",
            "[[  9  20  33  48]\n",
            " [ 65  84 105 128]]\n"
          ]
        }
      ]
    },
    {
      "cell_type": "code",
      "source": [
        "arr1=np.array([[1,2,3,4],[5,6,7,8]])\n",
        "arr2=np.array([[9,10,11,12],[13,14,15,16]])\n",
        "print(arr1/arr2)\n",
        "print(np.divide(arr1,arr2))"
      ],
      "metadata": {
        "colab": {
          "base_uri": "https://localhost:8080/"
        },
        "id": "MoBu4v5E9X96",
        "outputId": "93deecdc-cff0-4fcd-eff8-d29c2636a555"
      },
      "execution_count": 67,
      "outputs": [
        {
          "output_type": "stream",
          "name": "stdout",
          "text": [
            "[[0.11111111 0.2        0.27272727 0.33333333]\n",
            " [0.38461538 0.42857143 0.46666667 0.5       ]]\n",
            "[[0.11111111 0.2        0.27272727 0.33333333]\n",
            " [0.38461538 0.42857143 0.46666667 0.5       ]]\n"
          ]
        }
      ]
    },
    {
      "cell_type": "code",
      "source": [
        "arr1=np.array([[1,2,3,4],[5,6,7,8]])\n",
        "print(np.sqrt(arr1))"
      ],
      "metadata": {
        "colab": {
          "base_uri": "https://localhost:8080/"
        },
        "id": "2nsy-uzl9bO0",
        "outputId": "f544bc7c-15a3-4c87-d7c6-b4a3e1616570"
      },
      "execution_count": 72,
      "outputs": [
        {
          "output_type": "stream",
          "name": "stdout",
          "text": [
            "[[1.         1.41421356 1.73205081 2.        ]\n",
            " [2.23606798 2.44948974 2.64575131 2.82842712]]\n"
          ]
        }
      ]
    },
    {
      "cell_type": "code",
      "source": [
        "arr1=np.array([[3,4,6,1],[8,3,6,9]])\n",
        "print(np.sort(arr1))"
      ],
      "metadata": {
        "colab": {
          "base_uri": "https://localhost:8080/"
        },
        "id": "ZYn855cZ9mon",
        "outputId": "6cc90dba-1be1-472a-c354-be204fae647b"
      },
      "execution_count": 71,
      "outputs": [
        {
          "output_type": "stream",
          "name": "stdout",
          "text": [
            "[[1 3 4 6]\n",
            " [3 6 8 9]]\n"
          ]
        }
      ]
    },
    {
      "cell_type": "markdown",
      "source": [
        "# Slicing"
      ],
      "metadata": {
        "id": "zyZ90zMq-Bzw"
      }
    },
    {
      "cell_type": "code",
      "source": [
        "arr = np.array([1, 2, 3, 4, 5, 6, 7])\n",
        "print(arr[0:2])"
      ],
      "metadata": {
        "colab": {
          "base_uri": "https://localhost:8080/"
        },
        "id": "STb5T4qI908v",
        "outputId": "7e41db51-80df-4581-900d-8c06eeebd17a"
      },
      "execution_count": 73,
      "outputs": [
        {
          "output_type": "stream",
          "name": "stdout",
          "text": [
            "[1 2]\n"
          ]
        }
      ]
    },
    {
      "cell_type": "code",
      "source": [
        "arr = np.array([1, 2, 3, 4, 5, 6, 7])\n",
        "print(arr[:4])"
      ],
      "metadata": {
        "colab": {
          "base_uri": "https://localhost:8080/"
        },
        "id": "5pheR53c-XGv",
        "outputId": "568855d9-7523-4194-f301-b890868a0920"
      },
      "execution_count": 74,
      "outputs": [
        {
          "output_type": "stream",
          "name": "stdout",
          "text": [
            "[1 2 3 4]\n"
          ]
        }
      ]
    },
    {
      "cell_type": "code",
      "source": [
        "arr = np.array([1, 2, 3, 4, 5, 6, 7])\n",
        "print(arr[2:])"
      ],
      "metadata": {
        "colab": {
          "base_uri": "https://localhost:8080/"
        },
        "id": "yRQwCdJp_0o-",
        "outputId": "52b22482-89e8-4a5e-a19f-d2e713ab1651"
      },
      "execution_count": 75,
      "outputs": [
        {
          "output_type": "stream",
          "name": "stdout",
          "text": [
            "[3 4 5 6 7]\n"
          ]
        }
      ]
    },
    {
      "cell_type": "code",
      "source": [
        "arr = np.array([1, 2, 3, 4, 5, 6, 7])\n",
        "print(arr[-3:])"
      ],
      "metadata": {
        "colab": {
          "base_uri": "https://localhost:8080/"
        },
        "id": "i0j_Y483_4PU",
        "outputId": "a51164d3-b9d3-4a40-b872-8e160856f06b"
      },
      "execution_count": 76,
      "outputs": [
        {
          "output_type": "stream",
          "name": "stdout",
          "text": [
            "[5 6 7]\n"
          ]
        }
      ]
    },
    {
      "cell_type": "code",
      "source": [
        "arr = np.array([1, 2, 3, 4, 5, 6, 7])\n",
        "print(arr[-3:-1])"
      ],
      "metadata": {
        "colab": {
          "base_uri": "https://localhost:8080/"
        },
        "id": "jFTRStpjAGxF",
        "outputId": "f7556f56-0432-4e2f-96c5-7fada9a7bc8b"
      },
      "execution_count": 77,
      "outputs": [
        {
          "output_type": "stream",
          "name": "stdout",
          "text": [
            "[5 6]\n"
          ]
        }
      ]
    },
    {
      "cell_type": "code",
      "source": [
        "arr = np.array([[1, 2, 3, 4, 5], [6, 7, 8, 9, 10]])\n",
        "print(arr[1:3,2])"
      ],
      "metadata": {
        "colab": {
          "base_uri": "https://localhost:8080/"
        },
        "id": "gQs61bOWAS5n",
        "outputId": "d9e60808-aebf-4efe-9fd7-3ae549c65441"
      },
      "execution_count": 78,
      "outputs": [
        {
          "output_type": "stream",
          "name": "stdout",
          "text": [
            "[8]\n"
          ]
        }
      ]
    }
  ]
}